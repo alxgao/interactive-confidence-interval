{
 "cells": [
  {
   "cell_type": "code",
   "execution_count": 1,
   "id": "efb86a09-205d-483e-8cb8-6fdef17e7b7a",
   "metadata": {},
   "outputs": [
    {
     "data": {
      "application/vnd.jupyter.widget-view+json": {
       "model_id": "668b33ae620e41889206988291ba583e",
       "version_major": 2,
       "version_minor": 0
      },
      "text/plain": [
       "interactive(children=(IntSlider(value=42000, description='y-value:', max=55000, min=20000, step=500), Output()…"
      ]
     },
     "metadata": {},
     "output_type": "display_data"
    }
   ],
   "source": [
    "import pandas as pd\n",
    "import numpy as np\n",
    "\n",
    "import matplotlib.pyplot as plt\n",
    "from ipywidgets import interact\n",
    "import ipywidgets as widgets\n",
    "\n",
    "# generating random data\n",
    "np.random.seed(12345)\n",
    "\n",
    "df = pd.DataFrame([np.random.normal(32000,200000,3650), \n",
    "                   np.random.normal(43000,100000,3650), \n",
    "                   np.random.normal(43500,140000,3650), \n",
    "                   np.random.normal(48000,70000,3650)], \n",
    "                  index=[1992,1993,1994,1995])\n",
    "df = df.T\n",
    "\n",
    "\n",
    "# slider widget\n",
    "@interact(y_value=widgets.IntSlider(\n",
    "    value=42000,\n",
    "    min=20000,\n",
    "    max=55000,\n",
    "    step=500,\n",
    "    description='y-value:',\n",
    "    disabled=False,\n",
    "    continuous_update=True,\n",
    "    orientation='horizontal',\n",
    "    readout=True,\n",
    "    readout_format='d'))\n",
    "\n",
    "# plotting\n",
    "def plot(y_value):\n",
    "    plt.figure(figsize=(10,6))\n",
    "    \n",
    "    # plotting bars\n",
    "    index = [1992, 1993, 1994, 1995]\n",
    "    yerr = [np.std(df[1992])/np.sqrt(3650)*1.96,np.std(df[1993])/np.sqrt(3650)*1.96,\n",
    "            np.std(df[1994])/np.sqrt(3650)*1.96,np.std(df[1995])/np.sqrt(3650)*1.96]\n",
    "    bars = plt.bar(index,\n",
    "                   [np.mean(df[1992]),np.mean(df[1993]),np.mean(df[1994]),np.mean(df[1995])],\n",
    "                   width = 1,\n",
    "                   edgecolor = 'black',\n",
    "                   yerr = yerr,\n",
    "                   capsize = 20,\n",
    "                  alpha = 0.8)\n",
    "    plt.xticks(index)\n",
    "\n",
    "    # plotting line\n",
    "    #y_value = 42000\n",
    "    plt.plot([1991,1992,1993,1994,1995,1996], [y_value]*6, color = 'gray')\n",
    "    plt.text(1995.8, y_value - 750, str(y_value), color = '#333333')\n",
    "\n",
    "    # color of bars\n",
    "    for i in range(len(bars)):\n",
    "        bar = bars[i]\n",
    "\n",
    "        height =bar.get_height()\n",
    "        err = yerr[i]\n",
    "\n",
    "        if (height - err > y_value):\n",
    "            bar.set_facecolor('tab:red')\n",
    "\n",
    "        elif (height + err < y_value):\n",
    "            bar.set_facecolor('tab:blue')\n",
    "            \n",
    "        else:\n",
    "            bar.set_facecolor('lightgray')\n",
    "\n",
    "    # styling\n",
    "    plt.xlim(1991.25, 1995.75)\n",
    "    plt.ylim(0, 60000)\n",
    "    \n",
    "    plt.text(1991.4, 55000, \"   \", bbox=dict(facecolor='tab:red', alpha = 0.8))\n",
    "    plt.text(1991.4, 51000, \"   \", bbox=dict(facecolor='silver', alpha = 0.8))\n",
    "    plt.text(1991.4, 47000, \"   \", bbox=dict(facecolor='tab:blue', alpha = 0.8))\n",
    "    \n",
    "    plt.text(1991.55, 55000, \"Confidence Interval is Greater Than Value\")\n",
    "    plt.text(1991.55, 51000, \"Confidence Interval Contains Value\")\n",
    "    plt.text(1991.55, 47000, \"Confidence Interval is Less Than Value\")\n",
    "    \n",
    "    plt.title('Visualizing Whether a y-value Falls within Confidence Intervals', fontsize = 14)\n",
    "    plt.xlabel('Demo: Year')\n",
    "    plt.ylabel('Demo: Random Values')\n",
    "    \n",
    "    #plt.savefig(facecolor = 'white', edgecolor = 'white', format = 'png', dpi = 400, fname = 'interactive-confidence-interval.png')"
   ]
  }
 ],
 "metadata": {
  "kernelspec": {
   "display_name": "Python 3 (ipykernel)",
   "language": "python",
   "name": "python3"
  },
  "language_info": {
   "codemirror_mode": {
    "name": "ipython",
    "version": 3
   },
   "file_extension": ".py",
   "mimetype": "text/x-python",
   "name": "python",
   "nbconvert_exporter": "python",
   "pygments_lexer": "ipython3",
   "version": "3.8.10"
  }
 },
 "nbformat": 4,
 "nbformat_minor": 5
}
